{
 "cells": [
  {
   "cell_type": "code",
   "execution_count": 1,
   "id": "4c0066e3-bc76-483d-afdd-57d9375cb833",
   "metadata": {},
   "outputs": [
    {
     "name": "stdout",
     "output_type": "stream",
     "text": [
      "[+] Loading expansionhunter  5.0.0  on cn2278 \n"
     ]
    }
   ],
   "source": [
    "module load expansionhunter"
   ]
  },
  {
   "cell_type": "code",
   "execution_count": null,
   "id": "bb7b01d3-1229-4723-b992-68f1b5e4137c",
   "metadata": {},
   "outputs": [],
   "source": [
    "for i in `cat samplelist` ; do ExpansionHunter --reads \"$i\".cram \\\n",
    "--reference Homo_sapiens_assembly38.fasta --variant-catalog ExpansionHunter-v5.0.0-linux_x86_64/variant_catalog/hg38/variant_catalog.json \\\n",
    "--output-prefix \"$i\"_eh ; done"
   ]
  }
 ],
 "metadata": {
  "kernelspec": {
   "display_name": "Bash",
   "language": "bash",
   "name": "bash"
  },
  "language_info": {
   "codemirror_mode": "shell",
   "file_extension": ".sh",
   "mimetype": "text/x-sh",
   "name": "bash"
  }
 },
 "nbformat": 4,
 "nbformat_minor": 5
}
