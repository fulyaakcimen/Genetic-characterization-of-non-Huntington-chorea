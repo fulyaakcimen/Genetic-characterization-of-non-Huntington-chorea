{
 "cells": [
  {
   "cell_type": "code",
   "execution_count": 1,
   "id": "4b806ae7-1cd7-4e22-9a1e-d6a369acc65c",
   "metadata": {},
   "outputs": [
    {
     "name": "stdout",
     "output_type": "stream",
     "text": [
      "[-] Unloading annovar 2020-06-08 on cn2278 \n",
      "[+] Loading annovar 2020-06-08 on cn2278 \n",
      "-rw-rw-r-- 1 hooverdm staff  96G Jun  1  2024 /fdb/annovar/current/hg38/hg38_gnomad41_genome.txt\n",
      "-rw-rw-r-- 1 hooverdm staff 105M Jun  2  2024 /fdb/annovar/current/hg38/hg38_gnomad41_genome.txt.idx\n"
     ]
    }
   ],
   "source": [
    "module load annovar\n",
    "ls -lh $ANNOVAR_DATA/hg38/hg38_gnomad41*genome*"
   ]
  },
  {
   "cell_type": "code",
   "execution_count": 3,
   "id": "5dd826a8-39d2-40f0-89f8-075ef365effa",
   "metadata": {},
   "outputs": [
    {
     "name": "stdout",
     "output_type": "stream",
     "text": [
      "#!/bin/sh\n",
      "module load annovar\n",
      "table_annovar.pl chorea_exome.sept2019.vcf.gz  $ANNOVAR_DATA/hg38 --buildver hg38 -out chorea_snv -remove -protocol gene,clinvar_20220320,cosmic70,ljb26_all,avsnp150,cadd_1.5 --operation g,f,f,f,f,f  -nastring . -vcfinput\n",
      "\n"
     ]
    }
   ],
   "source": [
    "cat table_annovar.sh"
   ]
  },
  {
   "cell_type": "code",
   "execution_count": null,
   "id": "25db1e0b-4c76-44f5-b142-65301820f7ee",
   "metadata": {},
   "outputs": [],
   "source": [
    "sbatch --cpus-per-task=8 --mem=40g --mail-type=END --time=10:40:00 table_annovar.sh"
   ]
  },
  {
   "cell_type": "code",
   "execution_count": null,
   "id": "e4b5db60-4b3b-4f38-a87e-ec10614111df",
   "metadata": {},
   "outputs": [],
   "source": [
    "grep exon {WORK_DIR}/chorea_snv.hg38_multianno.vcf \\\n",
    "| grep -v -E \"refGene=synon|refGene=ncRNA_exonic|intron|downstream|upstream|intergenic|5_prime_UTR_variant|3_prime_UTR_variant\" \\\n",
    "| grep /1 | grep -v -E \"gnomad41_genome_AF_all=0\\.(9|8|7|6|5|4|3|2|1[0-9]?|01)\" | cut -f1-8 > {WORK_DIR}/chorea_snv_0.01_proteinaltering"
   ]
  },
  {
   "cell_type": "code",
   "execution_count": null,
   "id": "486ea09f-7679-427c-84d6-daccec033a67",
   "metadata": {},
   "outputs": [],
   "source": []
  }
 ],
 "metadata": {
  "kernelspec": {
   "display_name": "Bash",
   "language": "bash",
   "name": "bash"
  },
  "language_info": {
   "codemirror_mode": "shell",
   "file_extension": ".sh",
   "mimetype": "text/x-sh",
   "name": "bash"
  }
 },
 "nbformat": 4,
 "nbformat_minor": 5
}
