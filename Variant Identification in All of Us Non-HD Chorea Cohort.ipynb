{
 "cells": [
  {
   "cell_type": "code",
   "execution_count": 3,
   "id": "bd7b03b2",
   "metadata": {},
   "outputs": [
    {
     "name": "stdout",
     "output_type": "stream",
     "text": [
      "136 chorea_sampleids\r\n"
     ]
    }
   ],
   "source": [
    "!wc -l chorea_samples"
   ]
  },
  {
   "cell_type": "code",
   "execution_count": null,
   "id": "1790ff7c",
   "metadata": {},
   "outputs": [],
   "source": [
    "# Obtain the ancestry of participants with a chorea diagnosis\n",
    "!for i in `cat chorea_samples` ; do grep -w \"$i\" ancestry_preds.tsv >> chorea_ancestry ; done"
   ]
  },
  {
   "cell_type": "code",
   "execution_count": null,
   "id": "cb81dac7",
   "metadata": {},
   "outputs": [],
   "source": [
    "# Copy genomic files from Release 8\n",
    "!for i in {1..22};  do gsutil -u $GOOGLE_PROJECT -m cp gs://fc-aou-datasets-controlled/v8/wgs/short_read/snpindel/exome/pgen/exome.chr\"$i\".* . ; done"
   ]
  },
  {
   "cell_type": "code",
   "execution_count": null,
   "id": "634999e4",
   "metadata": {},
   "outputs": [],
   "source": [
    "# Convert genomic files from PLINK format to VCF, retaining only individuals with chorea\n",
    "!for i in {1..22}; do plink2 --pfile exome.chr\"$i\" --recode vcf --keep chorea_ids --out chr\"$i\"_chorea \\\n",
    "--threads 4  --set-missing-var-ids @:#\\$r,\\$a ; done"
   ]
  },
  {
   "cell_type": "code",
   "execution_count": null,
   "id": "bcaf958d",
   "metadata": {},
   "outputs": [],
   "source": [
    "# Extract variants present in at least one individual\n",
    "!for i in {1..22}; do grep -v contig chr\"$i\"_chorea.vcf | grep -v \"AC=0;\" | grep \"/1\" > chr\"$i\"_chorea_vars ; done"
   ]
  },
  {
   "cell_type": "code",
   "execution_count": null,
   "id": "8baed242",
   "metadata": {},
   "outputs": [],
   "source": [
    "# Combine the results from all chromosomes into a single merged variant file\n",
    "!cat chr*_chorea_vars > all_chorea_vars2"
   ]
  },
  {
   "cell_type": "code",
   "execution_count": null,
   "id": "0d716654",
   "metadata": {},
   "outputs": [],
   "source": []
  },
  {
   "cell_type": "code",
   "execution_count": null,
   "id": "6ac7ca83",
   "metadata": {},
   "outputs": [],
   "source": []
  }
 ],
 "metadata": {
  "kernelspec": {
   "display_name": "Python 3",
   "language": "python",
   "name": "python3"
  },
  "language_info": {
   "codemirror_mode": {
    "name": "ipython",
    "version": 3
   },
   "file_extension": ".py",
   "mimetype": "text/x-python",
   "name": "python",
   "nbconvert_exporter": "python",
   "pygments_lexer": "ipython3",
   "version": "3.10.12"
  },
  "toc": {
   "base_numbering": 1,
   "nav_menu": {},
   "number_sections": true,
   "sideBar": true,
   "skip_h1_title": false,
   "title_cell": "Table of Contents",
   "title_sidebar": "Contents",
   "toc_cell": false,
   "toc_position": {},
   "toc_section_display": true,
   "toc_window_display": false
  }
 },
 "nbformat": 4,
 "nbformat_minor": 5
}
